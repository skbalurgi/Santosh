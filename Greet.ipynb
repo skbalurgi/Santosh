{
  "nbformat": 4,
  "nbformat_minor": 0,
  "metadata": {
    "colab": {
      "provenance": [],
      "authorship_tag": "ABX9TyOdiLKAshO1WtyL76VGdCAC",
      "include_colab_link": true
    },
    "kernelspec": {
      "name": "python3",
      "display_name": "Python 3"
    },
    "language_info": {
      "name": "python"
    }
  },
  "cells": [
    {
      "cell_type": "markdown",
      "metadata": {
        "id": "view-in-github",
        "colab_type": "text"
      },
      "source": [
        "<a href=\"https://colab.research.google.com/github/skbalurgi/Santosh/blob/main/Greet.ipynb\" target=\"_parent\"><img src=\"https://colab.research.google.com/assets/colab-badge.svg\" alt=\"Open In Colab\"/></a>"
      ]
    },
    {
      "cell_type": "code",
      "execution_count": null,
      "metadata": {
        "collapsed": true,
        "colab": {
          "base_uri": "https://localhost:8080/"
        },
        "id": "GYIeSmWSVUJe",
        "outputId": "9e26cd1d-c2b9-4a8c-ab10-2312501a201f"
      },
      "outputs": [
        {
          "output_type": "stream",
          "name": "stdout",
          "text": [
            "Enter your nameSantosh \n",
            "Hey Santosh  this is Vaibhav\n"
          ]
        }
      ],
      "source": [
        "def greet(a):\n",
        "    print(\"Hey\",a, \"this is Vaibhav\")\n",
        "\n",
        "a=input(\"Enter your name\")\n",
        "greet(a)"
      ]
    }
  ]
}